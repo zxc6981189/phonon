{
 "cells": [
  {
   "cell_type": "code",
   "execution_count": 14,
   "id": "c13d760b",
   "metadata": {},
   "outputs": [],
   "source": [
    "import numpy as np\n",
    "import pandas as pd\n",
    "import matplotlib.pyplot as plt\n",
    "from free import get_dos"
   ]
  },
  {
   "cell_type": "code",
   "execution_count": 15,
   "id": "7af044d3",
   "metadata": {
    "scrolled": true
   },
   "outputs": [],
   "source": [
    "dos = get_dos('DOSCAR-lm')\n",
    "Ef = 4.03739953"
   ]
  },
  {
   "cell_type": "code",
   "execution_count": 24,
   "id": "67d970bb",
   "metadata": {},
   "outputs": [
    {
     "data": {
      "text/plain": [
       "(72024, 10)"
      ]
     },
     "execution_count": 24,
     "metadata": {},
     "output_type": "execute_result"
    }
   ],
   "source": [
    "dos.shape"
   ]
  },
  {
   "cell_type": "code",
   "execution_count": 27,
   "id": "4c608e19",
   "metadata": {},
   "outputs": [],
   "source": [
    "dos_Ti = np.zeros((3001,10))\n",
    "for i in range(8):\n",
    "    dos_Ti[:,1:] = dos_Ti[:,1:] + dos[i*3001:i*3001+3001,1:]\n",
    "dos_Ti[:,0] = dos[:3001,0]    "
   ]
  },
  {
   "cell_type": "code",
   "execution_count": 28,
   "id": "e3cc91df",
   "metadata": {},
   "outputs": [
    {
     "data": {
      "text/plain": [
       "array([-56.551, -56.529, -56.507, ...,   8.76 ,   8.782,   8.804])"
      ]
     },
     "execution_count": 28,
     "metadata": {},
     "output_type": "execute_result"
    }
   ],
   "source": [
    "dos_Ti[:,0]"
   ]
  },
  {
   "cell_type": "code",
   "execution_count": 33,
   "id": "d7166837",
   "metadata": {
    "scrolled": true
   },
   "outputs": [
    {
     "data": {
      "text/plain": [
       "[<matplotlib.lines.Line2D at 0x120ea1250>,\n",
       " <matplotlib.lines.Line2D at 0x120ea12b0>,\n",
       " <matplotlib.lines.Line2D at 0x120ea12e0>,\n",
       " <matplotlib.lines.Line2D at 0x120ea13d0>,\n",
       " <matplotlib.lines.Line2D at 0x120ea14c0>,\n",
       " <matplotlib.lines.Line2D at 0x120ea15b0>,\n",
       " <matplotlib.lines.Line2D at 0x120ea16a0>,\n",
       " <matplotlib.lines.Line2D at 0x120ea1790>,\n",
       " <matplotlib.lines.Line2D at 0x120ea1880>]"
      ]
     },
     "execution_count": 33,
     "metadata": {},
     "output_type": "execute_result"
    },
    {
     "data": {
      "image/png": "[encoded data removed]",
      "text/plain": [
       "<Figure size 640x480 with 1 Axes>"
      ]
     },
     "metadata": {},
     "output_type": "display_data"
    }
   ],
   "source": [
    "plt.plot(dos_Ti[:,0]-Ef,dos_Ti[:,1:10])"
   ]
  },
  {
   "cell_type": "code",
   "execution_count": null,
   "id": "0dde33fa",
   "metadata": {},
   "outputs": [],
   "source": []
  },
  {
   "cell_type": "code",
   "execution_count": null,
   "id": "c0cbb3ee",
   "metadata": {},
   "outputs": [],
   "source": []
  }
 ],
 "metadata": {
  "kernelspec": {
   "display_name": "Python 3 (ipykernel)",
   "language": "python",
   "name": "python3"
  },
  "language_info": {
   "codemirror_mode": {
    "name": "ipython",
    "version": 3
   },
   "file_extension": ".py",
   "mimetype": "text/x-python",
   "name": "python",
   "nbconvert_exporter": "python",
   "pygments_lexer": "ipython3",
   "version": "3.9.13"
  }
 },
 "nbformat": 4,
 "nbformat_minor": 5
}
